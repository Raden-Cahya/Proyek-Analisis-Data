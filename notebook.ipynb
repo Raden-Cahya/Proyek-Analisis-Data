{
  "cells": [
    {
      "cell_type": "markdown",
      "metadata": {
        "id": "H9wADwK78DCz"
      },
      "source": [
        "# Proyek Analisis Data: [E-Commerce Public Dataset (Sumber)]\n",
        "- **Nama:** [Raden Cahya Kartika Triadi Putra]\n",
        "- **Email:** [black102310@gmail.com]\n",
        "- **ID Dicoding:** [MC009D5Y0828]"
      ]
    },
    {
      "cell_type": "markdown",
      "metadata": {
        "id": "eE0raob58DC0"
      },
      "source": [
        "## Menentukan Pertanyaan Bisnis"
      ]
    },
    {
      "cell_type": "markdown",
      "metadata": {
        "id": "GmQeQ5YF8DC0"
      },
      "source": [
        "- Metode pembayaran apa yang paling sering digunakan oleh pelanggan?\n",
        "- Bagaimana pola penjualan bulanan dari e-commerce ini?"
      ]
    },
    {
      "cell_type": "markdown",
      "metadata": {
        "id": "H-z4QGlO8DC1"
      },
      "source": [
        "## Import Semua Packages/Library yang Digunakan"
      ]
    },
    {
      "cell_type": "code",
      "source": [
        "import pandas as pd\n",
        "import matplotlib.pyplot as plt\n",
        "import seaborn as sns"
      ],
      "metadata": {
        "id": "Zv4ugyrAVY64"
      },
      "execution_count": 1,
      "outputs": []
    },
    {
      "cell_type": "markdown",
      "metadata": {
        "id": "h_Sh51Xy8DC1"
      },
      "source": [
        "## Data Wrangling"
      ]
    },
    {
      "cell_type": "markdown",
      "metadata": {
        "id": "sXU2GBYu8DC1"
      },
      "source": [
        "### Gathering Data"
      ]
    },
    {
      "cell_type": "code",
      "execution_count": 2,
      "metadata": {
        "id": "zjCBk1BI8DC1",
        "colab": {
          "base_uri": "https://localhost:8080/",
          "height": 73
        },
        "outputId": "70d7adc7-caad-49a2-c3be-6eaf52c42626"
      },
      "outputs": [
        {
          "output_type": "display_data",
          "data": {
            "text/plain": [
              "<IPython.core.display.HTML object>"
            ],
            "text/html": [
              "\n",
              "     <input type=\"file\" id=\"files-25b21694-928a-4078-b437-4da08a2a5bec\" name=\"files[]\" multiple disabled\n",
              "        style=\"border:none\" />\n",
              "     <output id=\"result-25b21694-928a-4078-b437-4da08a2a5bec\">\n",
              "      Upload widget is only available when the cell has been executed in the\n",
              "      current browser session. Please rerun this cell to enable.\n",
              "      </output>\n",
              "      <script>// Copyright 2017 Google LLC\n",
              "//\n",
              "// Licensed under the Apache License, Version 2.0 (the \"License\");\n",
              "// you may not use this file except in compliance with the License.\n",
              "// You may obtain a copy of the License at\n",
              "//\n",
              "//      http://www.apache.org/licenses/LICENSE-2.0\n",
              "//\n",
              "// Unless required by applicable law or agreed to in writing, software\n",
              "// distributed under the License is distributed on an \"AS IS\" BASIS,\n",
              "// WITHOUT WARRANTIES OR CONDITIONS OF ANY KIND, either express or implied.\n",
              "// See the License for the specific language governing permissions and\n",
              "// limitations under the License.\n",
              "\n",
              "/**\n",
              " * @fileoverview Helpers for google.colab Python module.\n",
              " */\n",
              "(function(scope) {\n",
              "function span(text, styleAttributes = {}) {\n",
              "  const element = document.createElement('span');\n",
              "  element.textContent = text;\n",
              "  for (const key of Object.keys(styleAttributes)) {\n",
              "    element.style[key] = styleAttributes[key];\n",
              "  }\n",
              "  return element;\n",
              "}\n",
              "\n",
              "// Max number of bytes which will be uploaded at a time.\n",
              "const MAX_PAYLOAD_SIZE = 100 * 1024;\n",
              "\n",
              "function _uploadFiles(inputId, outputId) {\n",
              "  const steps = uploadFilesStep(inputId, outputId);\n",
              "  const outputElement = document.getElementById(outputId);\n",
              "  // Cache steps on the outputElement to make it available for the next call\n",
              "  // to uploadFilesContinue from Python.\n",
              "  outputElement.steps = steps;\n",
              "\n",
              "  return _uploadFilesContinue(outputId);\n",
              "}\n",
              "\n",
              "// This is roughly an async generator (not supported in the browser yet),\n",
              "// where there are multiple asynchronous steps and the Python side is going\n",
              "// to poll for completion of each step.\n",
              "// This uses a Promise to block the python side on completion of each step,\n",
              "// then passes the result of the previous step as the input to the next step.\n",
              "function _uploadFilesContinue(outputId) {\n",
              "  const outputElement = document.getElementById(outputId);\n",
              "  const steps = outputElement.steps;\n",
              "\n",
              "  const next = steps.next(outputElement.lastPromiseValue);\n",
              "  return Promise.resolve(next.value.promise).then((value) => {\n",
              "    // Cache the last promise value to make it available to the next\n",
              "    // step of the generator.\n",
              "    outputElement.lastPromiseValue = value;\n",
              "    return next.value.response;\n",
              "  });\n",
              "}\n",
              "\n",
              "/**\n",
              " * Generator function which is called between each async step of the upload\n",
              " * process.\n",
              " * @param {string} inputId Element ID of the input file picker element.\n",
              " * @param {string} outputId Element ID of the output display.\n",
              " * @return {!Iterable<!Object>} Iterable of next steps.\n",
              " */\n",
              "function* uploadFilesStep(inputId, outputId) {\n",
              "  const inputElement = document.getElementById(inputId);\n",
              "  inputElement.disabled = false;\n",
              "\n",
              "  const outputElement = document.getElementById(outputId);\n",
              "  outputElement.innerHTML = '';\n",
              "\n",
              "  const pickedPromise = new Promise((resolve) => {\n",
              "    inputElement.addEventListener('change', (e) => {\n",
              "      resolve(e.target.files);\n",
              "    });\n",
              "  });\n",
              "\n",
              "  const cancel = document.createElement('button');\n",
              "  inputElement.parentElement.appendChild(cancel);\n",
              "  cancel.textContent = 'Cancel upload';\n",
              "  const cancelPromise = new Promise((resolve) => {\n",
              "    cancel.onclick = () => {\n",
              "      resolve(null);\n",
              "    };\n",
              "  });\n",
              "\n",
              "  // Wait for the user to pick the files.\n",
              "  const files = yield {\n",
              "    promise: Promise.race([pickedPromise, cancelPromise]),\n",
              "    response: {\n",
              "      action: 'starting',\n",
              "    }\n",
              "  };\n",
              "\n",
              "  cancel.remove();\n",
              "\n",
              "  // Disable the input element since further picks are not allowed.\n",
              "  inputElement.disabled = true;\n",
              "\n",
              "  if (!files) {\n",
              "    return {\n",
              "      response: {\n",
              "        action: 'complete',\n",
              "      }\n",
              "    };\n",
              "  }\n",
              "\n",
              "  for (const file of files) {\n",
              "    const li = document.createElement('li');\n",
              "    li.append(span(file.name, {fontWeight: 'bold'}));\n",
              "    li.append(span(\n",
              "        `(${file.type || 'n/a'}) - ${file.size} bytes, ` +\n",
              "        `last modified: ${\n",
              "            file.lastModifiedDate ? file.lastModifiedDate.toLocaleDateString() :\n",
              "                                    'n/a'} - `));\n",
              "    const percent = span('0% done');\n",
              "    li.appendChild(percent);\n",
              "\n",
              "    outputElement.appendChild(li);\n",
              "\n",
              "    const fileDataPromise = new Promise((resolve) => {\n",
              "      const reader = new FileReader();\n",
              "      reader.onload = (e) => {\n",
              "        resolve(e.target.result);\n",
              "      };\n",
              "      reader.readAsArrayBuffer(file);\n",
              "    });\n",
              "    // Wait for the data to be ready.\n",
              "    let fileData = yield {\n",
              "      promise: fileDataPromise,\n",
              "      response: {\n",
              "        action: 'continue',\n",
              "      }\n",
              "    };\n",
              "\n",
              "    // Use a chunked sending to avoid message size limits. See b/62115660.\n",
              "    let position = 0;\n",
              "    do {\n",
              "      const length = Math.min(fileData.byteLength - position, MAX_PAYLOAD_SIZE);\n",
              "      const chunk = new Uint8Array(fileData, position, length);\n",
              "      position += length;\n",
              "\n",
              "      const base64 = btoa(String.fromCharCode.apply(null, chunk));\n",
              "      yield {\n",
              "        response: {\n",
              "          action: 'append',\n",
              "          file: file.name,\n",
              "          data: base64,\n",
              "        },\n",
              "      };\n",
              "\n",
              "      let percentDone = fileData.byteLength === 0 ?\n",
              "          100 :\n",
              "          Math.round((position / fileData.byteLength) * 100);\n",
              "      percent.textContent = `${percentDone}% done`;\n",
              "\n",
              "    } while (position < fileData.byteLength);\n",
              "  }\n",
              "\n",
              "  // All done.\n",
              "  yield {\n",
              "    response: {\n",
              "      action: 'complete',\n",
              "    }\n",
              "  };\n",
              "}\n",
              "\n",
              "scope.google = scope.google || {};\n",
              "scope.google.colab = scope.google.colab || {};\n",
              "scope.google.colab._files = {\n",
              "  _uploadFiles,\n",
              "  _uploadFilesContinue,\n",
              "};\n",
              "})(self);\n",
              "</script> "
            ]
          },
          "metadata": {}
        },
        {
          "output_type": "stream",
          "name": "stdout",
          "text": [
            "Saving E-commerce-public-dataset.zip to E-commerce-public-dataset.zip\n"
          ]
        }
      ],
      "source": [
        "from google.colab import files\n",
        "uploaded = files.upload()"
      ]
    },
    {
      "cell_type": "code",
      "source": [
        "import zipfile\n",
        "import os\n",
        "\n",
        "zip_path = \"/content/E-commerce-public-dataset.zip\"\n",
        "extract_path = \"/content/dataset\"\n",
        "\n",
        "with zipfile.ZipFile(zip_path, 'r') as zip_ref:\n",
        "    zip_ref.extractall(extract_path)\n",
        "\n",
        "print(os.listdir(extract_path))"
      ],
      "metadata": {
        "colab": {
          "base_uri": "https://localhost:8080/"
        },
        "id": "bp9fQq93XRni",
        "outputId": "3fdbe0a9-da64-4bf4-f8bf-fb83b9981710"
      },
      "execution_count": 53,
      "outputs": [
        {
          "output_type": "stream",
          "name": "stdout",
          "text": [
            "['E-Commerce Public Dataset']\n"
          ]
        }
      ]
    },
    {
      "cell_type": "code",
      "source": [
        "extract_path = \"/content/dataset/E-Commerce Public Dataset\"\n",
        "\n",
        "customers = pd.read_csv(extract_path + '/customers_dataset.csv')"
      ],
      "metadata": {
        "id": "yCNHbhYyYAPB"
      },
      "execution_count": 54,
      "outputs": []
    },
    {
      "cell_type": "code",
      "source": [
        "orders = pd.read_csv(extract_path + '/orders_dataset.csv')\n",
        "order_items = pd.read_csv(extract_path + '/order_items_dataset.csv')\n",
        "order_payments = pd.read_csv(extract_path + '/order_payments_dataset.csv')\n"
      ],
      "metadata": {
        "id": "icCCMPeF2nLY"
      },
      "execution_count": 55,
      "outputs": []
    },
    {
      "cell_type": "code",
      "source": [
        "print(\"Orders Dataset:\")\n",
        "print(orders.head(), \"\\n\")\n",
        "\n",
        "print(\"Order Items Dataset:\")\n",
        "print(order_items.head(), \"\\n\")\n",
        "\n",
        "print(\"Order Payments Dataset:\")\n",
        "print(order_payments.head(), \"\\n\")"
      ],
      "metadata": {
        "colab": {
          "base_uri": "https://localhost:8080/"
        },
        "id": "-mk8F8WA2xCI",
        "outputId": "ec1065e2-c784-4f89-c2db-f40afe36a607"
      },
      "execution_count": 56,
      "outputs": [
        {
          "output_type": "stream",
          "name": "stdout",
          "text": [
            "Orders Dataset:\n",
            "                           order_id                       customer_id  \\\n",
            "0  e481f51cbdc54678b7cc49136f2d6af7  9ef432eb6251297304e76186b10a928d   \n",
            "1  53cdb2fc8bc7dce0b6741e2150273451  b0830fb4747a6c6d20dea0b8c802d7ef   \n",
            "2  47770eb9100c2d0c44946d9cf07ec65d  41ce2a54c0b03bf3443c3d931a367089   \n",
            "3  949d5b44dbf5de918fe9c16f97b45f8a  f88197465ea7920adcdbec7375364d82   \n",
            "4  ad21c59c0840e6cb83a9ceb5573f8159  8ab97904e6daea8866dbdbc4fb7aad2c   \n",
            "\n",
            "  order_status order_purchase_timestamp    order_approved_at  \\\n",
            "0    delivered      2017-10-02 10:56:33  2017-10-02 11:07:15   \n",
            "1    delivered      2018-07-24 20:41:37  2018-07-26 03:24:27   \n",
            "2    delivered      2018-08-08 08:38:49  2018-08-08 08:55:23   \n",
            "3    delivered      2017-11-18 19:28:06  2017-11-18 19:45:59   \n",
            "4    delivered      2018-02-13 21:18:39  2018-02-13 22:20:29   \n",
            "\n",
            "  order_delivered_carrier_date order_delivered_customer_date  \\\n",
            "0          2017-10-04 19:55:00           2017-10-10 21:25:13   \n",
            "1          2018-07-26 14:31:00           2018-08-07 15:27:45   \n",
            "2          2018-08-08 13:50:00           2018-08-17 18:06:29   \n",
            "3          2017-11-22 13:39:59           2017-12-02 00:28:42   \n",
            "4          2018-02-14 19:46:34           2018-02-16 18:17:02   \n",
            "\n",
            "  order_estimated_delivery_date  \n",
            "0           2017-10-18 00:00:00  \n",
            "1           2018-08-13 00:00:00  \n",
            "2           2018-09-04 00:00:00  \n",
            "3           2017-12-15 00:00:00  \n",
            "4           2018-02-26 00:00:00   \n",
            "\n",
            "Order Items Dataset:\n",
            "                           order_id  order_item_id  \\\n",
            "0  00010242fe8c5a6d1ba2dd792cb16214              1   \n",
            "1  00018f77f2f0320c557190d7a144bdd3              1   \n",
            "2  000229ec398224ef6ca0657da4fc703e              1   \n",
            "3  00024acbcdf0a6daa1e931b038114c75              1   \n",
            "4  00042b26cf59d7ce69dfabb4e55b4fd9              1   \n",
            "\n",
            "                         product_id                         seller_id  \\\n",
            "0  4244733e06e7ecb4970a6e2683c13e61  48436dade18ac8b2bce089ec2a041202   \n",
            "1  e5f2d52b802189ee658865ca93d83a8f  dd7ddc04e1b6c2c614352b383efe2d36   \n",
            "2  c777355d18b72b67abbeef9df44fd0fd  5b51032eddd242adc84c38acab88f23d   \n",
            "3  7634da152a4610f1595efa32f14722fc  9d7a1d34a5052409006425275ba1c2b4   \n",
            "4  ac6c3623068f30de03045865e4e10089  df560393f3a51e74553ab94004ba5c87   \n",
            "\n",
            "   shipping_limit_date   price  freight_value  \n",
            "0  2017-09-19 09:45:35   58.90          13.29  \n",
            "1  2017-05-03 11:05:13  239.90          19.93  \n",
            "2  2018-01-18 14:48:30  199.00          17.87  \n",
            "3  2018-08-15 10:10:18   12.99          12.79  \n",
            "4  2017-02-13 13:57:51  199.90          18.14   \n",
            "\n",
            "Order Payments Dataset:\n",
            "                           order_id  payment_sequential payment_type  \\\n",
            "0  b81ef226f3fe1789b1e8b2acac839d17                   1  credit_card   \n",
            "1  a9810da82917af2d9aefd1278f1dcfa0                   1  credit_card   \n",
            "2  25e8ea4e93396b6fa0d3dd708e76c1bd                   1  credit_card   \n",
            "3  ba78997921bbcdc1373bb41e913ab953                   1  credit_card   \n",
            "4  42fdf880ba16b47b59251dd489d4441a                   1  credit_card   \n",
            "\n",
            "   payment_installments  payment_value  \n",
            "0                     8          99.33  \n",
            "1                     1          24.39  \n",
            "2                     1          65.71  \n",
            "3                     8         107.78  \n",
            "4                     2         128.45   \n",
            "\n"
          ]
        }
      ]
    },
    {
      "cell_type": "markdown",
      "source": [
        "**Insight:**\n",
        "\n",
        "- Metode Pembayaran Dominan\n",
        "Dari dataset Order Payments, mayoritas transaksi dilakukan menggunakan kartu kredit. Hal ini menunjukkan bahwa pelanggan lebih nyaman menggunakan metode pembayaran ini, kemungkinan karena adanya kemudahan transaksi, promo khusus, atau opsi cicilan yang tersedia.\n",
        "\n",
        "- Pola Pembelian & Tren Penjualan\n",
        "Berdasarkan dataset Orders, tren penjualan mengalami peningkatan dari waktu ke waktu, dengan puncak pesanan terjadi menjelang akhir tahun. Hal ini dapat dikaitkan dengan event belanja besar seperti Black Friday, Cyber Monday, dan diskon akhir tahun yang mendorong peningkatan jumlah pesanan.\n",
        "\n",
        "- Harga Produk dan Ongkos Kirim\n",
        "Dari dataset Order Items, terdapat variasi harga yang cukup signifikan antarproduk. Beberapa produk memiliki ongkos kirim yang hampir setara dengan harga barang itu sendiri, yang dapat memengaruhi keputusan pelanggan dalam menyelesaikan pembelian. Penjual dengan biaya pengiriman lebih rendah cenderung lebih menarik bagi pelanggan."
      ],
      "metadata": {
        "id": "MMi6xGaDkbCi"
      }
    },
    {
      "cell_type": "markdown",
      "metadata": {
        "id": "FHSiqaZp8DC1"
      },
      "source": [
        "### Assessing Data"
      ]
    },
    {
      "cell_type": "code",
      "source": [
        "orders.info()\n",
        "order_items.info()\n",
        "order_payments.info()\n"
      ],
      "metadata": {
        "id": "ax-3tEjc9Cj1",
        "colab": {
          "base_uri": "https://localhost:8080/"
        },
        "outputId": "e5e70230-4b53-46ea-a413-89c28391bb39"
      },
      "execution_count": 57,
      "outputs": [
        {
          "output_type": "stream",
          "name": "stdout",
          "text": [
            "<class 'pandas.core.frame.DataFrame'>\n",
            "RangeIndex: 99441 entries, 0 to 99440\n",
            "Data columns (total 8 columns):\n",
            " #   Column                         Non-Null Count  Dtype \n",
            "---  ------                         --------------  ----- \n",
            " 0   order_id                       99441 non-null  object\n",
            " 1   customer_id                    99441 non-null  object\n",
            " 2   order_status                   99441 non-null  object\n",
            " 3   order_purchase_timestamp       99441 non-null  object\n",
            " 4   order_approved_at              99281 non-null  object\n",
            " 5   order_delivered_carrier_date   97658 non-null  object\n",
            " 6   order_delivered_customer_date  96476 non-null  object\n",
            " 7   order_estimated_delivery_date  99441 non-null  object\n",
            "dtypes: object(8)\n",
            "memory usage: 6.1+ MB\n",
            "<class 'pandas.core.frame.DataFrame'>\n",
            "RangeIndex: 112650 entries, 0 to 112649\n",
            "Data columns (total 7 columns):\n",
            " #   Column               Non-Null Count   Dtype  \n",
            "---  ------               --------------   -----  \n",
            " 0   order_id             112650 non-null  object \n",
            " 1   order_item_id        112650 non-null  int64  \n",
            " 2   product_id           112650 non-null  object \n",
            " 3   seller_id            112650 non-null  object \n",
            " 4   shipping_limit_date  112650 non-null  object \n",
            " 5   price                112650 non-null  float64\n",
            " 6   freight_value        112650 non-null  float64\n",
            "dtypes: float64(2), int64(1), object(4)\n",
            "memory usage: 6.0+ MB\n",
            "<class 'pandas.core.frame.DataFrame'>\n",
            "RangeIndex: 103886 entries, 0 to 103885\n",
            "Data columns (total 5 columns):\n",
            " #   Column                Non-Null Count   Dtype  \n",
            "---  ------                --------------   -----  \n",
            " 0   order_id              103886 non-null  object \n",
            " 1   payment_sequential    103886 non-null  int64  \n",
            " 2   payment_type          103886 non-null  object \n",
            " 3   payment_installments  103886 non-null  int64  \n",
            " 4   payment_value         103886 non-null  float64\n",
            "dtypes: float64(1), int64(2), object(2)\n",
            "memory usage: 4.0+ MB\n"
          ]
        }
      ]
    },
    {
      "cell_type": "code",
      "source": [
        "print(\"Orders Dataset Shape:\", orders.shape)\n",
        "print(\"Order Items Dataset Shape:\", order_items.shape)\n",
        "print(\"Order Payments Dataset Shape:\", order_payments.shape, \"\\n\")\n"
      ],
      "metadata": {
        "colab": {
          "base_uri": "https://localhost:8080/"
        },
        "id": "ZGAqSG2V3cjQ",
        "outputId": "bda3286a-d866-4640-aca9-e63073703bfa"
      },
      "execution_count": 58,
      "outputs": [
        {
          "output_type": "stream",
          "name": "stdout",
          "text": [
            "Orders Dataset Shape: (99441, 8)\n",
            "Order Items Dataset Shape: (112650, 7)\n",
            "Order Payments Dataset Shape: (103886, 5) \n",
            "\n"
          ]
        }
      ]
    },
    {
      "cell_type": "code",
      "source": [
        "print(\"Unique Payment Methods:\", order_payments['payment_type'].unique(), \"\\n\")\n",
        "print(\"Unique Order Status:\", orders['order_status'].unique(), \"\\n\")"
      ],
      "metadata": {
        "colab": {
          "base_uri": "https://localhost:8080/"
        },
        "id": "6_-K3_mX3lCG",
        "outputId": "cfdf8e82-ccfb-4fc3-9dc8-c685719a1d6b"
      },
      "execution_count": 59,
      "outputs": [
        {
          "output_type": "stream",
          "name": "stdout",
          "text": [
            "Unique Payment Methods: ['credit_card' 'boleto' 'voucher' 'debit_card' 'not_defined'] \n",
            "\n",
            "Unique Order Status: ['delivered' 'invoiced' 'shipped' 'processing' 'unavailable' 'canceled'\n",
            " 'created' 'approved'] \n",
            "\n"
          ]
        }
      ]
    },
    {
      "cell_type": "code",
      "source": [
        "print(\"Order Payments Dataset Statistics:\")\n",
        "print(order_payments.describe(), \"\\n\")"
      ],
      "metadata": {
        "colab": {
          "base_uri": "https://localhost:8080/"
        },
        "id": "A8maOATg3mmH",
        "outputId": "365565ca-cf2b-4c1e-9c99-57ec75608892"
      },
      "execution_count": 60,
      "outputs": [
        {
          "output_type": "stream",
          "name": "stdout",
          "text": [
            "Order Payments Dataset Statistics:\n",
            "       payment_sequential  payment_installments  payment_value\n",
            "count       103886.000000         103886.000000  103886.000000\n",
            "mean             1.092679              2.853349     154.100380\n",
            "std              0.706584              2.687051     217.494064\n",
            "min              1.000000              0.000000       0.000000\n",
            "25%              1.000000              1.000000      56.790000\n",
            "50%              1.000000              1.000000     100.000000\n",
            "75%              1.000000              4.000000     171.837500\n",
            "max             29.000000             24.000000   13664.080000 \n",
            "\n"
          ]
        }
      ]
    },
    {
      "cell_type": "code",
      "source": [
        "print(\"Missing Values in Orders Dataset:\")\n",
        "print(orders.isnull().sum(), \"\\n\")\n",
        "\n",
        "print(\"Missing Values in Order Items Dataset:\")\n",
        "print(order_items.isnull().sum(), \"\\n\")\n",
        "\n",
        "print(\"Missing Values in Order Payments Dataset:\")\n",
        "print(order_payments.isnull().sum(), \"\\n\")"
      ],
      "metadata": {
        "colab": {
          "base_uri": "https://localhost:8080/"
        },
        "id": "I6o2jfCN3vOp",
        "outputId": "a85394b7-6aeb-4ade-ce77-c6d993716fc4"
      },
      "execution_count": 61,
      "outputs": [
        {
          "output_type": "stream",
          "name": "stdout",
          "text": [
            "Missing Values in Orders Dataset:\n",
            "order_id                            0\n",
            "customer_id                         0\n",
            "order_status                        0\n",
            "order_purchase_timestamp            0\n",
            "order_approved_at                 160\n",
            "order_delivered_carrier_date     1783\n",
            "order_delivered_customer_date    2965\n",
            "order_estimated_delivery_date       0\n",
            "dtype: int64 \n",
            "\n",
            "Missing Values in Order Items Dataset:\n",
            "order_id               0\n",
            "order_item_id          0\n",
            "product_id             0\n",
            "seller_id              0\n",
            "shipping_limit_date    0\n",
            "price                  0\n",
            "freight_value          0\n",
            "dtype: int64 \n",
            "\n",
            "Missing Values in Order Payments Dataset:\n",
            "order_id                0\n",
            "payment_sequential      0\n",
            "payment_type            0\n",
            "payment_installments    0\n",
            "payment_value           0\n",
            "dtype: int64 \n",
            "\n"
          ]
        }
      ]
    },
    {
      "cell_type": "code",
      "source": [
        "print(\"Orders Dataset Info:\")\n",
        "print(orders.info(), \"\\n\")\n",
        "\n",
        "print(\"Order Items Dataset Info:\")\n",
        "print(order_items.info(), \"\\n\")\n",
        "\n",
        "print(\"Order Payments Dataset Info:\")\n",
        "print(order_payments.info(), \"\\n\")"
      ],
      "metadata": {
        "colab": {
          "base_uri": "https://localhost:8080/"
        },
        "id": "wDMfYk0o3w0m",
        "outputId": "bae65273-92b2-417f-898e-64ff1dec4a12"
      },
      "execution_count": 62,
      "outputs": [
        {
          "output_type": "stream",
          "name": "stdout",
          "text": [
            "Orders Dataset Info:\n",
            "<class 'pandas.core.frame.DataFrame'>\n",
            "RangeIndex: 99441 entries, 0 to 99440\n",
            "Data columns (total 8 columns):\n",
            " #   Column                         Non-Null Count  Dtype \n",
            "---  ------                         --------------  ----- \n",
            " 0   order_id                       99441 non-null  object\n",
            " 1   customer_id                    99441 non-null  object\n",
            " 2   order_status                   99441 non-null  object\n",
            " 3   order_purchase_timestamp       99441 non-null  object\n",
            " 4   order_approved_at              99281 non-null  object\n",
            " 5   order_delivered_carrier_date   97658 non-null  object\n",
            " 6   order_delivered_customer_date  96476 non-null  object\n",
            " 7   order_estimated_delivery_date  99441 non-null  object\n",
            "dtypes: object(8)\n",
            "memory usage: 6.1+ MB\n",
            "None \n",
            "\n",
            "Order Items Dataset Info:\n",
            "<class 'pandas.core.frame.DataFrame'>\n",
            "RangeIndex: 112650 entries, 0 to 112649\n",
            "Data columns (total 7 columns):\n",
            " #   Column               Non-Null Count   Dtype  \n",
            "---  ------               --------------   -----  \n",
            " 0   order_id             112650 non-null  object \n",
            " 1   order_item_id        112650 non-null  int64  \n",
            " 2   product_id           112650 non-null  object \n",
            " 3   seller_id            112650 non-null  object \n",
            " 4   shipping_limit_date  112650 non-null  object \n",
            " 5   price                112650 non-null  float64\n",
            " 6   freight_value        112650 non-null  float64\n",
            "dtypes: float64(2), int64(1), object(4)\n",
            "memory usage: 6.0+ MB\n",
            "None \n",
            "\n",
            "Order Payments Dataset Info:\n",
            "<class 'pandas.core.frame.DataFrame'>\n",
            "RangeIndex: 103886 entries, 0 to 103885\n",
            "Data columns (total 5 columns):\n",
            " #   Column                Non-Null Count   Dtype  \n",
            "---  ------                --------------   -----  \n",
            " 0   order_id              103886 non-null  object \n",
            " 1   payment_sequential    103886 non-null  int64  \n",
            " 2   payment_type          103886 non-null  object \n",
            " 3   payment_installments  103886 non-null  int64  \n",
            " 4   payment_value         103886 non-null  float64\n",
            "dtypes: float64(1), int64(2), object(2)\n",
            "memory usage: 4.0+ MB\n",
            "None \n",
            "\n"
          ]
        }
      ]
    },
    {
      "cell_type": "markdown",
      "source": [
        "**Insight:**\n",
        "- Dari Data Orders, Order Items, dan Order Payments\n",
        "Dominasi Metode Pembayaran\n",
        "Dari data Order Payments, metode pembayaran yang paling banyak digunakan adalah credit card, diikuti oleh boleto, voucher, dan debit card. Ini menunjukkan bahwa pelanggan lebih cenderung memilih pembayaran yang cepat dan praktis, seperti kartu kredit, yang juga memungkinkan transaksi cicilan atau promo tertentu.\n",
        "\n",
        "- Dataset Orders menunjukkan bahwa sebagian besar pesanan memiliki status delivered, tetapi ada juga yang canceled, processing, dan unavailable. Hal ini bisa disebabkan oleh berbagai faktor, seperti masalah logistik, pembayaran yang gagal, atau pembatalan oleh pelanggan.\n",
        "\n",
        "- Dari data Order Items, terdapat variasi harga dan ongkos kirim (freight_value) yang cukup besar. Beberapa produk memiliki biaya pengiriman yang tinggi dibandingkan harga barangnya, yang berpotensi memengaruhi keputusan pelanggan dalam menyelesaikan transaksi.\n",
        "\n",
        "- Dari statistik pembayaran, mayoritas pelanggan membayar dalam satu kali transaksi (single payment), tetapi ada juga yang memilih cicilan hingga 24 kali. Hal ini menunjukkan adanya fleksibilitas dalam metode pembayaran yang disediakan oleh platform e-commerce.\n",
        "\n",
        "- Dataset Orders memiliki beberapa nilai yang hilang, terutama pada kolom order_approved_at, order_delivered_carrier_date, dan order_delivered_customer_date. Hal ini bisa menjadi indikasi adanya keterlambatan pengiriman atau pesanan yang tidak diproses dengan baik. Namun, dataset Order Items dan Order Payments tidak memiliki nilai yang hilang, sehingga data pembayaran dan item pesanan lebih lengkap dibandingkan data pesanan secara keseluruhan."
      ],
      "metadata": {
        "id": "7dtxhAPrkhPL"
      }
    },
    {
      "cell_type": "markdown",
      "metadata": {
        "id": "EhN5R4hr8DC1"
      },
      "source": [
        "### Cleaning Data"
      ]
    },
    {
      "cell_type": "code",
      "source": [
        "orders = pd.read_csv(extract_path + '/orders_dataset.csv')\n",
        "order_items = pd.read_csv(extract_path + '/order_items_dataset.csv')\n",
        "order_payments = pd.read_csv(extract_path + '/order_payments_dataset.csv')\n"
      ],
      "metadata": {
        "id": "jVnYpprE9Evz"
      },
      "execution_count": 63,
      "outputs": []
    },
    {
      "cell_type": "code",
      "source": [
        "orders.drop_duplicates(inplace=True)\n",
        "order_items.drop_duplicates(inplace=True)\n",
        "order_payments.drop_duplicates(inplace=True)"
      ],
      "metadata": {
        "id": "IVyINEXl4szL"
      },
      "execution_count": 64,
      "outputs": []
    },
    {
      "cell_type": "code",
      "source": [
        "orders.dropna(inplace=True)\n",
        "order_items.dropna(inplace=True)\n",
        "order_payments.dropna(inplace=True)"
      ],
      "metadata": {
        "id": "metz_7n64xR6"
      },
      "execution_count": 65,
      "outputs": []
    },
    {
      "cell_type": "code",
      "source": [
        "orders['order_purchase_timestamp'] = pd.to_datetime(orders['order_purchase_timestamp'])\n",
        "order_payments['payment_value'] = order_payments['payment_value'].astype(float)"
      ],
      "metadata": {
        "id": "Zxfw4vBy4z21"
      },
      "execution_count": 66,
      "outputs": []
    },
    {
      "cell_type": "code",
      "source": [
        "orders_cleaned = orders[['order_id', 'customer_id', 'order_status', 'order_purchase_timestamp']]\n",
        "order_items_cleaned = order_items[['order_id', 'product_id', 'price', 'freight_value']]\n",
        "order_payments_cleaned = order_payments[['order_id', 'payment_type', 'payment_value']]"
      ],
      "metadata": {
        "id": "zZ9T0vvt44cX"
      },
      "execution_count": 67,
      "outputs": []
    },
    {
      "cell_type": "code",
      "source": [
        "print(\"Orders Dataset Cleaned:\")\n",
        "print(orders_cleaned.head(), \"\\n\")\n",
        "\n",
        "print(\"Order Items Dataset Cleaned:\")\n",
        "print(order_items_cleaned.head(), \"\\n\")\n",
        "\n",
        "print(\"Order Payments Dataset Cleaned:\")\n",
        "print(order_payments_cleaned.head(), \"\\n\")"
      ],
      "metadata": {
        "colab": {
          "base_uri": "https://localhost:8080/"
        },
        "id": "Pe_DxVVO470T",
        "outputId": "9b70dca5-9e29-45c5-ad2f-f9349fdb3f5f"
      },
      "execution_count": 68,
      "outputs": [
        {
          "output_type": "stream",
          "name": "stdout",
          "text": [
            "Orders Dataset Cleaned:\n",
            "                           order_id                       customer_id  \\\n",
            "0  e481f51cbdc54678b7cc49136f2d6af7  9ef432eb6251297304e76186b10a928d   \n",
            "1  53cdb2fc8bc7dce0b6741e2150273451  b0830fb4747a6c6d20dea0b8c802d7ef   \n",
            "2  47770eb9100c2d0c44946d9cf07ec65d  41ce2a54c0b03bf3443c3d931a367089   \n",
            "3  949d5b44dbf5de918fe9c16f97b45f8a  f88197465ea7920adcdbec7375364d82   \n",
            "4  ad21c59c0840e6cb83a9ceb5573f8159  8ab97904e6daea8866dbdbc4fb7aad2c   \n",
            "\n",
            "  order_status order_purchase_timestamp  \n",
            "0    delivered      2017-10-02 10:56:33  \n",
            "1    delivered      2018-07-24 20:41:37  \n",
            "2    delivered      2018-08-08 08:38:49  \n",
            "3    delivered      2017-11-18 19:28:06  \n",
            "4    delivered      2018-02-13 21:18:39   \n",
            "\n",
            "Order Items Dataset Cleaned:\n",
            "                           order_id                        product_id   price  \\\n",
            "0  00010242fe8c5a6d1ba2dd792cb16214  4244733e06e7ecb4970a6e2683c13e61   58.90   \n",
            "1  00018f77f2f0320c557190d7a144bdd3  e5f2d52b802189ee658865ca93d83a8f  239.90   \n",
            "2  000229ec398224ef6ca0657da4fc703e  c777355d18b72b67abbeef9df44fd0fd  199.00   \n",
            "3  00024acbcdf0a6daa1e931b038114c75  7634da152a4610f1595efa32f14722fc   12.99   \n",
            "4  00042b26cf59d7ce69dfabb4e55b4fd9  ac6c3623068f30de03045865e4e10089  199.90   \n",
            "\n",
            "   freight_value  \n",
            "0          13.29  \n",
            "1          19.93  \n",
            "2          17.87  \n",
            "3          12.79  \n",
            "4          18.14   \n",
            "\n",
            "Order Payments Dataset Cleaned:\n",
            "                           order_id payment_type  payment_value\n",
            "0  b81ef226f3fe1789b1e8b2acac839d17  credit_card          99.33\n",
            "1  a9810da82917af2d9aefd1278f1dcfa0  credit_card          24.39\n",
            "2  25e8ea4e93396b6fa0d3dd708e76c1bd  credit_card          65.71\n",
            "3  ba78997921bbcdc1373bb41e913ab953  credit_card         107.78\n",
            "4  42fdf880ba16b47b59251dd489d4441a  credit_card         128.45 \n",
            "\n"
          ]
        }
      ]
    },
    {
      "cell_type": "markdown",
      "source": [
        "**Insight:**\n",
        "- Setelah data dibersihkan, hanya pesanan dengan status delivered yang tersisa. Ini menunjukkan bahwa analisis hanya akan fokus pada transaksi yang berhasil, menghilangkan data pesanan yang dibatalkan atau belum diproses.\n",
        "\n",
        "- Dari Order Items Dataset, harga produk bervariasi mulai dari yang murah (Rp12.99) hingga yang mahal (Rp239.90 atau lebih).\n",
        "Ongkos kirim (freight_value) juga bervariasi, beberapa bahkan mendekati harga produk itu sendiri. Ini bisa berpengaruh pada keputusan pelanggan untuk menyelesaikan pembelian.\n",
        "\n",
        "- Mayoritas pembayaran menggunakan credit card, yang menunjukkan bahwa pelanggan lebih memilih transaksi cepat dan praktis dibanding metode lain seperti boleto atau debit card. Beberapa pelanggan melakukan pembayaran dalam beberapa kali cicilan, yang bisa menunjukkan ketertarikan pelanggan pada opsi pembayaran fleksibel.\n",
        "\n",
        "- Untuk beberapa produk, biaya pengiriman hampir setara dengan harga barang itu sendiri. Hal ini bisa menjadi faktor yang memengaruhi tingkat konversi penjualan, terutama untuk barang dengan harga rendah.\n",
        "\n",
        "- Order purchase timestamp menunjukkan kapan pesanan dilakukan, yang bisa digunakan untuk mengidentifikasi pola pembelian harian, mingguan, atau musiman. Jika dianalisis lebih lanjut, bisa diketahui kapan waktu puncak belanja pelanggan, yang dapat membantu dalam strategi pemasaran dan promosi."
      ],
      "metadata": {
        "id": "Q_5ejIqckiSP"
      }
    },
    {
      "cell_type": "markdown",
      "metadata": {
        "id": "gp-Y6wU38DC1"
      },
      "source": [
        "## Exploratory Data Analysis (EDA)"
      ]
    },
    {
      "cell_type": "markdown",
      "metadata": {
        "id": "MW7WF2kr8DC1"
      },
      "source": [
        "### Explore ..."
      ]
    },
    {
      "cell_type": "code",
      "execution_count": 69,
      "metadata": {
        "id": "e9CQCZjk8DC2",
        "colab": {
          "base_uri": "https://localhost:8080/"
        },
        "outputId": "012a7620-247d-4c6a-e945-95e843f7eaae"
      },
      "outputs": [
        {
          "output_type": "stream",
          "name": "stdout",
          "text": [
            "Distribusi Metode Pembayaran (%):\n",
            "payment_type\n",
            "credit_card    73.922376\n",
            "boleto         19.043952\n",
            "voucher         5.558978\n",
            "debit_card      1.471806\n",
            "not_defined     0.002888\n",
            "Name: proportion, dtype: float64\n",
            "\n",
            "Statistik Pembayaran per Metode:\n",
            "                count        mean         std    min      25%     50%  \\\n",
            "payment_type                                                            \n",
            "boleto        19784.0  145.034435  213.581061  11.62  55.5225   93.89   \n",
            "credit_card   76795.0  163.319021  222.119311   0.01  62.2100  106.87   \n",
            "debit_card     1529.0  142.570170  245.793401  13.38  51.1000   89.30   \n",
            "not_defined       3.0    0.000000    0.000000   0.00   0.0000    0.00   \n",
            "voucher        5775.0   65.703354  115.519185   0.00  18.0350   39.28   \n",
            "\n",
            "                   75%       max  \n",
            "payment_type                      \n",
            "boleto        160.7625   7274.88  \n",
            "credit_card   181.2100  13664.08  \n",
            "debit_card    154.3200   4445.50  \n",
            "not_defined     0.0000      0.00  \n",
            "voucher        80.0000   3184.34  \n"
          ]
        }
      ],
      "source": [
        "order_payments = pd.read_csv(\"/content/dataset/E-Commerce Public Dataset/order_payments_dataset.csv\")\n",
        "\n",
        "payment_counts = order_payments['payment_type'].value_counts(normalize=True) * 100\n",
        "payment_amounts = order_payments.groupby('payment_type')['payment_value'].describe()\n",
        "\n",
        "print(\"Distribusi Metode Pembayaran (%):\")\n",
        "print(payment_counts)\n",
        "print(\"\\nStatistik Pembayaran per Metode:\")\n",
        "print(payment_amounts)"
      ]
    },
    {
      "cell_type": "code",
      "source": [
        "orders = pd.read_csv(\"/content/dataset/E-Commerce Public Dataset/orders_dataset.csv\")\n",
        "\n",
        "orders['order_purchase_timestamp'] = pd.to_datetime(orders['order_purchase_timestamp'])\n",
        "orders['month_year'] = orders['order_purchase_timestamp'].dt.to_period('M')\n",
        "\n",
        "monthly_orders = orders.groupby('month_year')['order_id'].count().reset_index()\n",
        "monthly_orders['month_year'] = monthly_orders['month_year'].astype(str)\n",
        "\n",
        "print(\"Statistik Pesanan Bulanan:\")\n",
        "print(monthly_orders.describe())\n",
        "\n",
        "print(\"\\n10 Bulan dengan Penjualan Tertinggi:\")\n",
        "print(monthly_orders.nlargest(10, 'order_id'))"
      ],
      "metadata": {
        "colab": {
          "base_uri": "https://localhost:8080/"
        },
        "id": "bMR86SVj662v",
        "outputId": "4c7c6ff3-c74d-4a64-88c4-03f710191739"
      },
      "execution_count": 70,
      "outputs": [
        {
          "output_type": "stream",
          "name": "stdout",
          "text": [
            "Statistik Pesanan Bulanan:\n",
            "          order_id\n",
            "count    25.000000\n",
            "mean   3977.640000\n",
            "std    2699.938516\n",
            "min       1.000000\n",
            "25%    1780.000000\n",
            "50%    4285.000000\n",
            "75%    6512.000000\n",
            "max    7544.000000\n",
            "\n",
            "10 Bulan dengan Penjualan Tertinggi:\n",
            "   month_year  order_id\n",
            "13    2017-11      7544\n",
            "15    2018-01      7269\n",
            "17    2018-03      7211\n",
            "18    2018-04      6939\n",
            "19    2018-05      6873\n",
            "16    2018-02      6728\n",
            "22    2018-08      6512\n",
            "21    2018-07      6292\n",
            "20    2018-06      6167\n",
            "14    2017-12      5673\n"
          ]
        }
      ]
    },
    {
      "cell_type": "markdown",
      "source": [
        "**Insight:**\n",
        "\n",
        "Pertanyaan 1\n",
        "\n",
        "- Sebagian besar pelanggan lebih memilih credit card untuk pembayaran, kemungkinan karena kemudahan dan fleksibilitasnya, termasuk opsi cicilan.Ini bisa menjadi pertimbangan bagi e-commerce dalam menawarkan promo berbasis kartu kredit, seperti diskon atau cashback.\n",
        "\n",
        "- Boleto (transfer bank atau pembayaran offline) digunakan oleh 19.04% pelanggan. Ini menunjukkan bahwa sebagian pelanggan masih memilih metode tradisional untuk bertransaksi. Voucher (5.56%) sering digunakan, menunjukkan adanya segmen pelanggan yang memanfaatkan diskon atau kredit dari platform e-commerce.\n",
        "\n",
        "- Kartu Kredit: Rata-rata transaksi tertinggi (Rp163.319) dan transaksi maksimal mencapai Rp13.664. Ini menunjukkan adanya pembelian bernilai tinggi menggunakan kartu kredit. Boleto & Debit Card: Rata-rata transaksi hampir sama (Rp145.034 dan Rp142.570), tapi dengan variasi yang lebih kecil dibanding kartu kredit. Voucher: Rata-rata transaksi jauh lebih kecil (Rp65.703), menunjukkan bahwa pelanggan menggunakan voucher untuk pembelian kecil atau diskon parsial pada pesanan mereka.\n",
        "\n",
        "- Ada transaksi yang tidak memiliki metode pembayaran yang jelas. Ini bisa disebabkan oleh kesalahan sistem atau transaksi yang tidak tercatat dengan baik.\n",
        "\n",
        "Pertanyaan 2\n",
        "\n",
        "- Rata-rata jumlah pesanan per bulan adalah 3.977 pesanan, dengan variasi yang cukup besar (standar deviasi 2.699 pesanan).\n",
        "Jumlah pesanan bulanan bervariasi dari 1 pesanan (min) hingga 7.544 pesanan (max), menunjukkan adanya lonjakan permintaan di bulan-bulan tertentu.\n",
        "\n",
        "10 Bulan dengan Penjualan Tertinggi\n",
        "Berdasarkan data, bulan-bulan dengan jumlah pesanan tertinggi adalah:\n",
        "- November 2017 → 7.544 pesanan (tertinggi)\n",
        "- Januari 2018 → 7.269 pesanan\n",
        "- Maret 2018 → 7.211 pesanan\n",
        "- April 2018 → 6.939 pesanan\n",
        "- Mei 2018 → 6.873 pesanan\n",
        "- Februari 2018 → 6.728 pesanan\n",
        "- Agustus 2018 → 6.512 pesanan\n",
        "- Juli 2018 → 6.292 pesanan\n",
        "- Juni 2018 → 6.167 pesanan\n",
        "- Desember 2017 → 5.673 pesanan\n",
        "\n",
        "Pola yang Terlihat:\n",
        "\n",
        "- Lonjakan pesanan terjadi di akhir tahun (November - Desember 2017) dan terus meningkat hingga awal tahun (Januari - Maret 2018).\n",
        "- Ada peningkatan pesanan di pertengahan tahun (Juni - Agustus 2018), mungkin karena event promosi atau musim belanja tertentu.\n",
        "- November 2017 mencatat jumlah pesanan tertinggi (7.544 pesanan), kemungkinan karena event Black Friday atau promo akhir tahun.\n",
        "\n",
        "Musim Puncak Penjualan:\n",
        "- Akhir Tahun (November - Desember) dan Awal Tahun (Januari - Maret) Perlu strategi promosi agresif pada periode ini.\n",
        "- Pertengahan Tahun (Juni - Agustus) juga menunjukkan peningkatan Bisa menjadi waktu yang tepat untuk kampanye diskon atau event belanja spesial.\n",
        "\n",
        "Strategi untuk Meningkatkan Penjualan:\n",
        "\n",
        "- Fokuskan kampanye marketing dan promosi pada bulan-bulan dengan lonjakan pesanan (seperti Black Friday, New Year Sale, atau Mid-Year Sale).\n",
        "- Stok barang & logistik perlu dipersiapkan lebih baik untuk mengantisipasi lonjakan pesanan, terutama di November - Maret.\n",
        "- Bisa dilakukan analisis lebih lanjut terhadap kategori produk yang paling laris di bulan-bulan tersebut untuk memahami tren belanja pelanggan.\n"
      ],
      "metadata": {
        "id": "th_Lzl2Fkj9O"
      }
    },
    {
      "cell_type": "markdown",
      "metadata": {
        "id": "zsyZjqak8DC2"
      },
      "source": [
        "## Visualization & Explanatory Analysis"
      ]
    },
    {
      "cell_type": "markdown",
      "metadata": {
        "id": "HZxOiQ6n8DC2"
      },
      "source": [
        "### Pertanyaan 1:"
      ]
    },
    {
      "cell_type": "code",
      "execution_count": 71,
      "metadata": {
        "id": "1swJUdAD8DC2",
        "colab": {
          "base_uri": "https://localhost:8080/",
          "height": 614
        },
        "outputId": "b26229bd-1fab-4bb3-b226-fdd73175dbdc"
      },
      "outputs": [
        {
          "output_type": "stream",
          "name": "stderr",
          "text": [
            "<ipython-input-71-1309bda4db2c>:4: FutureWarning: \n",
            "\n",
            "Passing `palette` without assigning `hue` is deprecated and will be removed in v0.14.0. Assign the `x` variable to `hue` and set `legend=False` for the same effect.\n",
            "\n",
            "  sns.barplot(x=payment_counts.index, y=payment_counts.values, palette=\"viridis\")\n"
          ]
        },
        {
          "output_type": "display_data",
          "data": {
            "text/plain": [
              "<Figure size 800x500 with 1 Axes>"
            ],
            "image/png": "[encoded data removed]"
          },
          "metadata": {}
        }
      ],
      "source": [
        "plt.figure(figsize=(8, 5))\n",
        "payment_counts = order_payments['payment_type'].value_counts(normalize=True) * 100\n",
        "\n",
        "sns.barplot(x=payment_counts.index, y=payment_counts.values, palette=\"viridis\")\n",
        "plt.xlabel(\"Metode Pembayaran\")\n",
        "plt.ylabel(\"Persentase (%)\")\n",
        "plt.title(\"Distribusi Metode Pembayaran\")\n",
        "plt.xticks(rotation=45, ha='right')\n",
        "plt.tight_layout()\n",
        "plt.show()"
      ]
    },
    {
      "cell_type": "markdown",
      "metadata": {
        "id": "DgHI7CiU8DC2"
      },
      "source": [
        "### Pertanyaan 2:"
      ]
    },
    {
      "cell_type": "code",
      "execution_count": 72,
      "metadata": {
        "id": "Go0lCsvO8DC2",
        "colab": {
          "base_uri": "https://localhost:8080/",
          "height": 469
        },
        "outputId": "8020fa05-c795-4c86-9363-5ecde7225530"
      },
      "outputs": [
        {
          "output_type": "display_data",
          "data": {
            "text/plain": [
              "<Figure size 1200x600 with 1 Axes>"
            ],
            "image/png": "[encoded data removed]"
          },
          "metadata": {}
        }
      ],
      "source": [
        "orders['order_purchase_timestamp'] = pd.to_datetime(orders['order_purchase_timestamp'])\n",
        "orders['month_year'] = orders['order_purchase_timestamp'].dt.to_period('M')\n",
        "\n",
        "monthly_orders = orders.groupby('month_year')['order_id'].count().reset_index()\n",
        "\n",
        "monthly_orders['month_year'] = monthly_orders['month_year'].astype(str)\n",
        "\n",
        "plt.figure(figsize=(12, 6))\n",
        "sns.lineplot(x='month_year', y='order_id', data=monthly_orders, marker='o', color='b', linestyle='-')\n",
        "plt.xlabel(\"Bulan-Tahun\")\n",
        "plt.ylabel(\"Jumlah Pesanan\")\n",
        "plt.title(\"Pola Penjualan Bulanan\")\n",
        "plt.xticks(rotation=45, ha='right')\n",
        "plt.tight_layout()\n",
        "plt.grid(True)\n",
        "plt.show()"
      ]
    },
    {
      "cell_type": "markdown",
      "source": [
        "**Insight:**\n",
        "- Pertanyaan 1\n",
        "\n",
        "   Berdasarkan analisis saya Mayoritas pelanggan menggunakan kartu kredit sebagai metode pembayaran utama. Hal ini menunjukkan bahwa pelanggan lebih memilih metode yang praktis, memiliki fitur cicilan, dan dapat memberikan keuntungan seperti cashback atau poin reward.\n",
        "\n",
        "\n",
        "- Pertanyaan 2\n",
        "\n",
        "  Berdasarkan analisis saya dalam pola penjualan bulanan, terlihat adanya tren peningkatan jumlah pesanan dari tahun ke tahun. Lonjakan signifikan terjadi pada akhir tahun, khususnya pada bulan November - Desember 2017."
      ],
      "metadata": {
        "id": "_0-36BDLklRg"
      }
    },
    {
      "cell_type": "markdown",
      "source": [
        "## Analisis Lanjutan (Opsional)"
      ],
      "metadata": {
        "id": "9y4VUsmcYNZ5"
      }
    },
    {
      "cell_type": "code",
      "source": [
        "\n",
        "all_df = pd.merge(orders_cleaned, order_items_cleaned, on='order_id', how='left')\n",
        "all_df = pd.merge(all_df, order_payments_cleaned, on='order_id', how='left')\n",
        "\n",
        "all_df.to_csv(\"all_data.csv\", index=False)"
      ],
      "metadata": {
        "id": "iWhnzsJGYUCO"
      },
      "execution_count": 73,
      "outputs": []
    },
    {
      "cell_type": "markdown",
      "metadata": {
        "id": "_WeHlCeX8DC2"
      },
      "source": [
        "## Conclusion"
      ]
    },
    {
      "cell_type": "markdown",
      "metadata": {
        "id": "ZTcyR48Y8DC2"
      },
      "source": [
        "- Conclution pertanyaan 1\n",
        "\n",
        "  Dari analisis yang saya lakukan di distribusi metode pembayaran, dapat disimpulkan bahwa metode pembayaran yang paling sering digunakan oleh pelanggan adalah credit card. Hal ini menunjukkan bahwa pelanggan lebih memilih metode pembayaran yang cepat dan mudah digunakan. Perusahaan dapat mempertimbangkan untuk meningkatkan fasilitas pembayaran digital guna meningkatkan kenyamanan pelanggan.\n",
        "\n",
        "- Conclution pertanyaan 2\n",
        "\n",
        "  Berdasarkan analisis yang saya lakukan, pola penjualan bulanan menunjukkan bahwa penjualan cenderung meningkat pada akhir tahun. Hal ini kemungkinan disebabkan oleh promo besar seperti diskon akhir tahun dan musim belanja, yang mendorong lebih banyak pelanggan untuk bertransaksi. Tren ini bisa menjadi pertimbangan bagi perusahaan dalam menyusun strategi pemasaran dan pengelolaan stok produk agar lebih optimal selama periode puncak penjualan."
      ]
    }
  ],
  "metadata": {
    "kernelspec": {
      "display_name": "Python 3",
      "language": "python",
      "name": "python3"
    },
    "language_info": {
      "name": "python",
      "version": "3.8.0 (tags/v3.8.0:fa919fd, Oct 14 2019, 19:21:23) [MSC v.1916 32 bit (Intel)]"
    },
    "orig_nbformat": 4,
    "vscode": {
      "interpreter": {
        "hash": "972b3bf27e332e87b5379f2791f6ef9dfc79c71018c370b0d7423235e20fe4d7"
      }
    },
    "colab": {
      "provenance": []
    }
  },
  "nbformat": 4,
  "nbformat_minor": 0
}